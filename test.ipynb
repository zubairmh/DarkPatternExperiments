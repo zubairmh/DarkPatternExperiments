{
 "cells": [
  {
   "cell_type": "code",
   "execution_count": 141,
   "metadata": {},
   "outputs": [],
   "source": [
    "import pandas as pd\n",
    " \n",
    "df = pd.read_csv('better.csv')\n",
    "df = df.sample(frac=1, random_state=42).reset_index(drop=True)"
   ]
  },
  {
   "cell_type": "code",
   "execution_count": 142,
   "metadata": {},
   "outputs": [],
   "source": [
    "from nltk.corpus import stopwords\n",
    "from nltk.tokenize import word_tokenize\n",
    " \n",
    "def remove_stop_words(text):\n",
    "    text = word_tokenize(text.lower())\n",
    "    stop_words = set(stopwords.words('english'))\n",
    "    text = [word for word in text if word.isalpha() and not word in stop_words]\n",
    "    return ' '.join(text)\n",
    "     \n",
    "x = df.apply(lambda row: remove_stop_words(row['Pattern String']), axis=1)"
   ]
  },
  {
   "cell_type": "code",
   "execution_count": 143,
   "metadata": {},
   "outputs": [],
   "source": [
    "x_train=x[0:1200]\n",
    "x_test=x[1201:1400]"
   ]
  },
  {
   "cell_type": "code",
   "execution_count": 144,
   "metadata": {},
   "outputs": [
    {
     "data": {
      "text/plain": [
       "0           Scarcity\n",
       "1           Scarcity\n",
       "2           Scarcity\n",
       "3           Scarcity\n",
       "4           Scarcity\n",
       "            ...     \n",
       "1489        Scarcity\n",
       "1490        Scarcity\n",
       "1491        Scarcity\n",
       "1492    Misdirection\n",
       "1493        Scarcity\n",
       "Name: Pattern Category, Length: 1494, dtype: object"
      ]
     },
     "execution_count": 144,
     "metadata": {},
     "output_type": "execute_result"
    }
   ],
   "source": [
    "y=df[\"Pattern Category\"]\n",
    "y"
   ]
  },
  {
   "cell_type": "code",
   "execution_count": 145,
   "metadata": {},
   "outputs": [],
   "source": [
    "import keras\n",
    "unique={'Social Proof': 0,\n",
    " 'Misdirection': 1,\n",
    " 'Urgency': 2,\n",
    " 'Forced Action': 3,\n",
    " 'Obstruction': 4,\n",
    " 'Sneaking': 5,\n",
    " 'Scarcity': 6}\n",
    "# layer = keras.layers.StringLookup(vocabulary=y.unique())\n",
    "# y_train=layer(y.iloc[0:1000])\n",
    "# y_test=layer(y.iloc[1001:1400])\n",
    "y_train=y.iloc[0:1200].apply(lambda x: unique[x])\n",
    "y_test=y.iloc[1201:1400].apply(lambda x: unique[x])"
   ]
  },
  {
   "cell_type": "code",
   "execution_count": 146,
   "metadata": {},
   "outputs": [
    {
     "data": {
      "text/plain": [
       "(array([[0., 0., 0., ..., 0., 0., 1.],\n",
       "        [0., 0., 0., ..., 0., 0., 1.],\n",
       "        [0., 0., 0., ..., 0., 0., 1.],\n",
       "        ...,\n",
       "        [0., 0., 0., ..., 0., 0., 1.],\n",
       "        [0., 0., 0., ..., 0., 0., 1.],\n",
       "        [0., 0., 0., ..., 0., 0., 1.]], dtype=float32),\n",
       " array([[1., 0., 0., ..., 0., 0., 0.],\n",
       "        [0., 0., 0., ..., 0., 0., 1.],\n",
       "        [1., 0., 0., ..., 0., 0., 0.],\n",
       "        ...,\n",
       "        [0., 1., 0., ..., 0., 0., 0.],\n",
       "        [1., 0., 0., ..., 0., 0., 0.],\n",
       "        [0., 0., 1., ..., 0., 0., 0.]], dtype=float32))"
      ]
     },
     "execution_count": 146,
     "metadata": {},
     "output_type": "execute_result"
    }
   ],
   "source": [
    "from keras.utils import to_categorical\n",
    "y_train, y_test = to_categorical(y_train, num_classes=7), to_categorical(y_test, num_classes=7)\n",
    "y_train, y_test"
   ]
  },
  {
   "cell_type": "code",
   "execution_count": 147,
   "metadata": {},
   "outputs": [],
   "source": [
    "from keras.preprocessing.text import Tokenizer\n",
    "from keras.preprocessing.sequence import pad_sequences\n",
    " \n",
    "max_words = 20000\n",
    "max_length = 500\n",
    " \n",
    "tokenizer = Tokenizer(num_words=max_words)\n",
    "tokenizer.fit_on_texts(x_train)\n",
    "sequences = tokenizer.texts_to_sequences(x_train)\n",
    "x_train = pad_sequences(sequences, maxlen=max_length)"
   ]
  },
  {
   "cell_type": "code",
   "execution_count": 148,
   "metadata": {},
   "outputs": [
    {
     "name": "stdout",
     "output_type": "stream",
     "text": [
      "Model: \"sequential_21\"\n",
      "_________________________________________________________________\n",
      " Layer (type)                Output Shape              Param #   \n",
      "=================================================================\n",
      " embedding_20 (Embedding)    (None, 500, 32)           640000    \n",
      "                                                                 \n",
      " flatten_17 (Flatten)        (None, 16000)             0         \n",
      "                                                                 \n",
      " dense_42 (Dense)            (None, 128)               2048128   \n",
      "                                                                 \n",
      " dense_43 (Dense)            (None, 7)                 903       \n",
      "                                                                 \n",
      "=================================================================\n",
      "Total params: 2689031 (10.26 MB)\n",
      "Trainable params: 2689031 (10.26 MB)\n",
      "Non-trainable params: 0 (0.00 Byte)\n",
      "_________________________________________________________________\n"
     ]
    }
   ],
   "source": [
    "from keras.models import Sequential\n",
    "from keras.layers import Dense, Flatten, Embedding, Dropout, Conv1D, MaxPooling1D,GlobalMaxPooling1D\n",
    " \n",
    "model = Sequential() \n",
    "model.add(Embedding(max_words, 32, input_length=max_length)) \n",
    "# model.add(Embedding(max_words, 32, input_length=max_length))\n",
    "# model.add(Conv1D(128, 7, activation='relu'))\n",
    "# model.add(MaxPooling1D(5))\n",
    "# model.add(Conv1D(128, 7, activation='relu'))\n",
    "# model.add(GlobalMaxPooling1D())\n",
    "model.add(Flatten())\n",
    "model.add(Dense(128, activation=\"relu\"))\n",
    "model.add(Dense(7, activation='softmax'))\n",
    "model.compile(loss='binary_crossentropy', optimizer='adam', metrics=['accuracy']) \n",
    "model.summary()"
   ]
  },
  {
   "cell_type": "code",
   "execution_count": 149,
   "metadata": {},
   "outputs": [
    {
     "name": "stdout",
     "output_type": "stream",
     "text": [
      "Epoch 1/20\n",
      "48/48 [==============================] - 3s 34ms/step - loss: 0.3360 - accuracy: 0.4250 - val_loss: 0.3039 - val_accuracy: 0.4750\n",
      "Epoch 2/20\n",
      "48/48 [==============================] - 1s 28ms/step - loss: 0.2633 - accuracy: 0.5667 - val_loss: 0.2284 - val_accuracy: 0.7167\n",
      "Epoch 3/20\n",
      "48/48 [==============================] - 1s 28ms/step - loss: 0.1776 - accuracy: 0.8052 - val_loss: 0.1558 - val_accuracy: 0.8792\n",
      "Epoch 4/20\n",
      "48/48 [==============================] - 1s 30ms/step - loss: 0.1164 - accuracy: 0.9073 - val_loss: 0.1104 - val_accuracy: 0.9042\n",
      "Epoch 5/20\n",
      "48/48 [==============================] - 1s 29ms/step - loss: 0.0782 - accuracy: 0.9417 - val_loss: 0.0875 - val_accuracy: 0.9292\n",
      "Epoch 6/20\n",
      "48/48 [==============================] - 1s 29ms/step - loss: 0.0552 - accuracy: 0.9563 - val_loss: 0.0732 - val_accuracy: 0.9292\n",
      "Epoch 7/20\n",
      "48/48 [==============================] - 1s 29ms/step - loss: 0.0435 - accuracy: 0.9656 - val_loss: 0.0632 - val_accuracy: 0.9500\n",
      "Epoch 8/20\n",
      "48/48 [==============================] - 1s 30ms/step - loss: 0.0373 - accuracy: 0.9677 - val_loss: 0.0586 - val_accuracy: 0.9417\n",
      "Epoch 9/20\n",
      "48/48 [==============================] - 1s 29ms/step - loss: 0.0316 - accuracy: 0.9708 - val_loss: 0.0602 - val_accuracy: 0.9458\n",
      "Epoch 10/20\n",
      "48/48 [==============================] - 1s 29ms/step - loss: 0.0265 - accuracy: 0.9729 - val_loss: 0.0540 - val_accuracy: 0.9417\n",
      "Epoch 11/20\n",
      "48/48 [==============================] - 1s 28ms/step - loss: 0.0236 - accuracy: 0.9760 - val_loss: 0.0506 - val_accuracy: 0.9500\n",
      "Epoch 12/20\n",
      "48/48 [==============================] - 1s 30ms/step - loss: 0.0208 - accuracy: 0.9781 - val_loss: 0.0509 - val_accuracy: 0.9458\n",
      "Epoch 13/20\n",
      "48/48 [==============================] - 1s 29ms/step - loss: 0.0187 - accuracy: 0.9792 - val_loss: 0.0500 - val_accuracy: 0.9458\n",
      "Epoch 14/20\n",
      "48/48 [==============================] - 1s 29ms/step - loss: 0.0164 - accuracy: 0.9896 - val_loss: 0.0498 - val_accuracy: 0.9542\n",
      "Epoch 15/20\n",
      "48/48 [==============================] - 1s 30ms/step - loss: 0.0147 - accuracy: 0.9885 - val_loss: 0.0473 - val_accuracy: 0.9500\n",
      "Epoch 16/20\n",
      "48/48 [==============================] - 1s 30ms/step - loss: 0.0134 - accuracy: 0.9896 - val_loss: 0.0461 - val_accuracy: 0.9542\n",
      "Epoch 17/20\n",
      "48/48 [==============================] - 1s 30ms/step - loss: 0.0115 - accuracy: 0.9917 - val_loss: 0.0463 - val_accuracy: 0.9500\n",
      "Epoch 18/20\n",
      "48/48 [==============================] - 1s 30ms/step - loss: 0.0106 - accuracy: 0.9917 - val_loss: 0.0474 - val_accuracy: 0.9500\n",
      "Epoch 19/20\n",
      "48/48 [==============================] - 1s 30ms/step - loss: 0.0090 - accuracy: 0.9917 - val_loss: 0.0480 - val_accuracy: 0.9583\n",
      "Epoch 20/20\n",
      "48/48 [==============================] - 1s 30ms/step - loss: 0.0090 - accuracy: 0.9948 - val_loss: 0.0517 - val_accuracy: 0.9375\n"
     ]
    }
   ],
   "source": [
    "hist = model.fit(x_train, y_train, validation_split=0.2, epochs=20, batch_size=20)"
   ]
  },
  {
   "cell_type": "code",
   "execution_count": 150,
   "metadata": {},
   "outputs": [
    {
     "name": "stdout",
     "output_type": "stream",
     "text": [
      "[[  0   0   0 ...   0 151  31]\n",
      " [  0   0   0 ...   0   1   2]\n",
      " [  0   0   0 ... 153  56  16]\n",
      " ...\n",
      " [  0   0   0 ...   8 394 395]\n",
      " [  0   0   0 ...   9  23  16]\n",
      " [  0   0   0 ...   0   6   5]]\n",
      "7/7 [==============================] - 0s 5ms/step - loss: 0.3981 - accuracy: 0.6231\n",
      "Test score: 0.39809927344322205\n",
      "Test accuracy: 0.623115599155426\n"
     ]
    }
   ],
   "source": [
    "tokenizer = Tokenizer(num_words=max_words)\n",
    "tokenizer.fit_on_texts(x_test)\n",
    "sequences = tokenizer.texts_to_sequences(x_test)\n",
    "x_test_hot = pad_sequences(sequences, maxlen=max_length)\n",
    "print(x_test_hot)\n",
    "score, acc = model.evaluate(x_test_hot, y_test)\n",
    "print('Test score:', score)\n",
    "print('Test accuracy:', acc)\n",
    "\n",
    "model.save(\"classifier-{0:.2f}.keras\".format(acc))\n"
   ]
  },
  {
   "cell_type": "code",
   "execution_count": 151,
   "metadata": {},
   "outputs": [],
   "source": [
    "# model.predict(x_train[1])"
   ]
  },
  {
   "cell_type": "code",
   "execution_count": null,
   "metadata": {},
   "outputs": [],
   "source": []
  }
 ],
 "metadata": {
  "kernelspec": {
   "display_name": "Python 3",
   "language": "python",
   "name": "python3"
  },
  "language_info": {
   "codemirror_mode": {
    "name": "ipython",
    "version": 3
   },
   "file_extension": ".py",
   "mimetype": "text/x-python",
   "name": "python",
   "nbconvert_exporter": "python",
   "pygments_lexer": "ipython3",
   "version": "3.11.7"
  }
 },
 "nbformat": 4,
 "nbformat_minor": 2
}
